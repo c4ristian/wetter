{
 "cells": [
  {
   "cell_type": "code",
   "id": "initial_id",
   "metadata": {
    "collapsed": true,
    "ExecuteTime": {
     "end_time": "2025-10-15T11:09:37.400259Z",
     "start_time": "2025-10-15T11:09:37.398508Z"
    }
   },
   "source": [
    "# Imports\n",
    "import pandas as pd"
   ],
   "outputs": [],
   "execution_count": 4
  },
  {
   "metadata": {
    "ExecuteTime": {
     "end_time": "2025-10-15T11:09:51.028120Z",
     "start_time": "2025-10-15T11:09:51.020666Z"
    }
   },
   "cell_type": "code",
   "source": [
    "# Read input data\n",
    "weather_frame = pd.read_csv(\n",
    "    \"../data/terminwerte_TU_00183_akt/produkt_tu_termin_20240413_20251014_00183.txt\", sep=\";\")\n",
    "weather_frame.head()"
   ],
   "id": "3c31f96559c7f32f",
   "outputs": [
    {
     "data": {
      "text/plain": [
       "   STATIONS_ID  MESS_DATUM  QN_4  TT_TER  RF_TER  eor\n",
       "0          183  2024041306     9     9.9    90.0  eor\n",
       "1          183  2024041312     9    14.0    82.0  eor\n",
       "2          183  2024041318     9    12.1    85.0  eor\n",
       "3          183  2024041406     9     9.0    78.0  eor\n",
       "4          183  2024041412     9    10.6    69.0  eor"
      ],
      "text/html": [
       "<div>\n",
       "<style scoped>\n",
       "    .dataframe tbody tr th:only-of-type {\n",
       "        vertical-align: middle;\n",
       "    }\n",
       "\n",
       "    .dataframe tbody tr th {\n",
       "        vertical-align: top;\n",
       "    }\n",
       "\n",
       "    .dataframe thead th {\n",
       "        text-align: right;\n",
       "    }\n",
       "</style>\n",
       "<table border=\"1\" class=\"dataframe\">\n",
       "  <thead>\n",
       "    <tr style=\"text-align: right;\">\n",
       "      <th></th>\n",
       "      <th>STATIONS_ID</th>\n",
       "      <th>MESS_DATUM</th>\n",
       "      <th>QN_4</th>\n",
       "      <th>TT_TER</th>\n",
       "      <th>RF_TER</th>\n",
       "      <th>eor</th>\n",
       "    </tr>\n",
       "  </thead>\n",
       "  <tbody>\n",
       "    <tr>\n",
       "      <th>0</th>\n",
       "      <td>183</td>\n",
       "      <td>2024041306</td>\n",
       "      <td>9</td>\n",
       "      <td>9.9</td>\n",
       "      <td>90.0</td>\n",
       "      <td>eor</td>\n",
       "    </tr>\n",
       "    <tr>\n",
       "      <th>1</th>\n",
       "      <td>183</td>\n",
       "      <td>2024041312</td>\n",
       "      <td>9</td>\n",
       "      <td>14.0</td>\n",
       "      <td>82.0</td>\n",
       "      <td>eor</td>\n",
       "    </tr>\n",
       "    <tr>\n",
       "      <th>2</th>\n",
       "      <td>183</td>\n",
       "      <td>2024041318</td>\n",
       "      <td>9</td>\n",
       "      <td>12.1</td>\n",
       "      <td>85.0</td>\n",
       "      <td>eor</td>\n",
       "    </tr>\n",
       "    <tr>\n",
       "      <th>3</th>\n",
       "      <td>183</td>\n",
       "      <td>2024041406</td>\n",
       "      <td>9</td>\n",
       "      <td>9.0</td>\n",
       "      <td>78.0</td>\n",
       "      <td>eor</td>\n",
       "    </tr>\n",
       "    <tr>\n",
       "      <th>4</th>\n",
       "      <td>183</td>\n",
       "      <td>2024041412</td>\n",
       "      <td>9</td>\n",
       "      <td>10.6</td>\n",
       "      <td>69.0</td>\n",
       "      <td>eor</td>\n",
       "    </tr>\n",
       "  </tbody>\n",
       "</table>\n",
       "</div>"
      ]
     },
     "execution_count": 6,
     "metadata": {},
     "output_type": "execute_result"
    }
   ],
   "execution_count": 6
  },
  {
   "metadata": {
    "ExecuteTime": {
     "end_time": "2025-10-15T11:09:37.476633Z",
     "start_time": "2025-10-15T11:09:37.475541Z"
    }
   },
   "cell_type": "code",
   "source": "",
   "id": "752af66c7e7f2221",
   "outputs": [],
   "execution_count": null
  }
 ],
 "metadata": {
  "kernelspec": {
   "display_name": "Python 3",
   "language": "python",
   "name": "python3"
  },
  "language_info": {
   "codemirror_mode": {
    "name": "ipython",
    "version": 2
   },
   "file_extension": ".py",
   "mimetype": "text/x-python",
   "name": "python",
   "nbconvert_exporter": "python",
   "pygments_lexer": "ipython2",
   "version": "2.7.6"
  }
 },
 "nbformat": 4,
 "nbformat_minor": 5
}
